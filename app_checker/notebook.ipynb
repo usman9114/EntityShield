{
 "cells": [
  {
   "cell_type": "code",
   "execution_count": 1,
   "metadata": {},
   "outputs": [],
   "source": [
    "import pandas as pd"
   ]
  },
  {
   "cell_type": "code",
   "execution_count": 2,
   "metadata": {},
   "outputs": [],
   "source": [
    "import json"
   ]
  },
  {
   "cell_type": "code",
   "execution_count": 3,
   "metadata": {},
   "outputs": [],
   "source": [
    "with open('test.json','r') as f:\n",
    "    data = f.read()\n",
    "data = json.loads(data)"
   ]
  },
  {
   "cell_type": "code",
   "execution_count": 4,
   "metadata": {},
   "outputs": [
    {
     "data": {
      "text/plain": [
       "'{\"computer_name\":{\"0\":\"USMANQURESHI\",\"1\":\"USMANQURESHI\",\"2\":\"USMANQURESHI\",\"3\":\"USMANQURESHI\",\"4\":\"NT AUTHORITY\",\"5\":\"NT AUTHORITY\",\"6\":\"USMANQURESHI\",\"7\":\"USMANQURESHI\",\"8\":\"NT AUTHORITY\",\"9\":\"NT AUTHORITY\",\"10\":\"USMANQURESHI\",\"11\":\"USMANQURESHI\",\"12\":\"USMANQURESHI\",\"13\":\"USMANQURESHI\",\"14\":\"USMANQURESHI\",\"15\":\"USMANQURESHI\",\"16\":\"USMANQURESHI\",\"17\":\"USMANQURESHI\",\"18\":\"USMANQURESHI\",\"19\":\"USMANQURESHI\",\"20\":\"USMANQURESHI\",\"21\":\"USMANQURESHI\",\"22\":\"USMANQURESHI\",\"23\":\"NT AUTHORITY\",\"24\":\"USMANQURESHI\",\"25\":\"NT AUTHORITY\",\"26\":\"USMANQURESHI\",\"27\":\"USMANQURESHI\",\"28\":\"NT AUTHORITY\",\"29\":\"USMANQURESHI\",\"30\":\"NT AUTHORITY\",\"31\":\"NT AUTHORITY\",\"32\":\"NT AUTHORITY\",\"33\":\"USMANQURESHI\",\"34\":\"NT AUTHORITY\",\"35\":\"NT AUTHORITY\",\"36\":\"NT AUTHORITY\",\"37\":\"USMANQURESHI\",\"38\":\"USMANQURESHI\",\"39\":\"USMANQURESHI\",\"40\":\"USMANQURESHI\",\"41\":\"USMANQURESHI\",\"42\":\"USMANQURESHI\",\"43\":\"USMANQURESHI\",\"44\":\"USMANQURESHI\",\"45\":\"NT AUTHORITY\",\"46\":\"USMANQURESHI\",\"47\":\"USMANQURESHI\",\"48\":\"USMANQURESHI\",\"49\":\"USMANQURESHI\",\"50\":\"NT AUTHORITY\",\"51\":\"USMANQURESHI\",\"52\":\"USMANQURESHI\",\"53\":\"USMANQURESHI\",\"54\":\"USMANQURESHI\",\"55\":\"USMANQURESHI\",\"56\":\"USMANQURESHI\",\"57\":\"USMANQURESHI\",\"58\":\"NT AUTHORITY\",\"59\":\"USMANQURESHI\",\"60\":\"NT AUTHORITY\",\"61\":\"USMANQURESHI\",\"62\":\"NT AUTHORITY\",\"63\":\"NT AUTHORITY\",\"64\":\"NT AUTHORITY\",\"65\":\"NT AUTHORITY\",\"66\":\"NT AUTHORITY\",\"67\":\"NT AUTHORITY\",\"68\":\"NT AUTHORITY\",\"69\":\"USMANQURESHI\",\"70\":\"USMANQURESHI\",\"71\":\"USMANQURESHI\",\"72\":\"NT AUTHORITY\",\"73\":\"NT AUTHORITY\",\"74\":\"NT AUTHORITY\",\"75\":\"USMANQURESHI\",\"76\":\"USMANQURESHI\",\"77\":\"USMANQURESHI\",\"78\":\"USMANQURESHI\",\"79\":\"USMANQURESHI\",\"80\":\"USMANQURESHI\",\"81\":\"USMANQURESHI\",\"82\":\"USMANQURESHI\",\"83\":\"USMANQURESHI\",\"84\":\"USMANQURESHI\",\"85\":\"USMANQURESHI\",\"86\":\"USMANQURESHI\",\"87\":\"USMANQURESHI\",\"88\":\"USMANQURESHI\"},\"doc_count\":{\"0\":5481729,\"1\":5430367,\"2\":27946,\"3\":4096,\"4\":3601,\"5\":3444,\"6\":1689,\"7\":1579,\"8\":1255,\"9\":1059,\"10\":498,\"11\":289,\"12\":267,\"13\":257,\"14\":213,\"15\":198,\"16\":133,\"17\":132,\"18\":80,\"19\":76,\"20\":71,\"21\":57,\"22\":49,\"23\":42,\"24\":40,\"25\":39,\"26\":38,\"27\":38,\"28\":36,\"29\":35,\"30\":34,\"31\":32,\"32\":30,\"33\":26,\"34\":25,\"35\":23,\"36\":20,\"37\":20,\"38\":16,\"39\":15,\"40\":14,\"41\":13,\"42\":11,\"43\":8,\"44\":8,\"45\":8,\"46\":6,\"47\":6,\"48\":5,\"49\":4,\"50\":4,\"51\":4,\"52\":4,\"53\":4,\"54\":4,\"55\":4,\"56\":4,\"57\":3,\"58\":3,\"59\":3,\"60\":2,\"61\":2,\"62\":2,\"63\":2,\"64\":2,\"65\":2,\"66\":2,\"67\":2,\"68\":2,\"69\":2,\"70\":2,\"71\":2,\"72\":2,\"73\":2,\"74\":2,\"75\":2,\"76\":2,\"77\":1,\"78\":1,\"79\":1,\"80\":1,\"81\":1,\"82\":1,\"83\":1,\"84\":1,\"85\":1,\"86\":1,\"87\":1,\"88\":1},\"username\":{\"0\":\"atti-001\",\"1\":\"atti-001\",\"2\":\"atti-001\",\"3\":\"atti-001\",\"4\":\"SYSTEM\",\"5\":\"SYSTEM\",\"6\":\"atti-001\",\"7\":\"atti-001\",\"8\":\"SYSTEM\",\"9\":\"SYSTEM\",\"10\":\"atti-001\",\"11\":\"atti-001\",\"12\":\"atti-001\",\"13\":\"atti-001\",\"14\":\"atti-001\",\"15\":\"atti-001\",\"16\":\"atti-001\",\"17\":\"atti-001\",\"18\":\"atti-001\",\"19\":\"atti-001\",\"20\":\"atti-001\",\"21\":\"atti-001\",\"22\":\"atti-001\",\"23\":\"SYSTEM\",\"24\":\"atti-001\",\"25\":\"SYSTEM\",\"26\":\"atti-001\",\"27\":\"atti-001\",\"28\":\"SYSTEM\",\"29\":\"atti-001\",\"30\":\"SYSTEM\",\"31\":\"SYSTEM\",\"32\":\"SYSTEM\",\"33\":\"atti-001\",\"34\":\"SYSTEM\",\"35\":\"SYSTEM\",\"36\":\"SYSTEM\",\"37\":\"atti-001\",\"38\":\"atti-001\",\"39\":\"atti-001\",\"40\":\"atti-001\",\"41\":\"atti-001\",\"42\":\"atti-001\",\"43\":\"atti-001\",\"44\":\"atti-001\",\"45\":\"SYSTEM\",\"46\":\"atti-001\",\"47\":\"atti-001\",\"48\":\"atti-001\",\"49\":\"atti-001\",\"50\":\"SYSTEM\",\"51\":\"atti-001\",\"52\":\"atti-001\",\"53\":\"atti-001\",\"54\":\"atti-001\",\"55\":\"atti-001\",\"56\":\"atti-001\",\"57\":\"atti-001\",\"58\":\"SYSTEM\",\"59\":\"atti-001\",\"60\":\"SYSTEM\",\"61\":\"atti-001\",\"62\":\"SYSTEM\",\"63\":\"SYSTEM\",\"64\":\"SYSTEM\",\"65\":\"SYSTEM\",\"66\":\"SYSTEM\",\"67\":\"SYSTEM\",\"68\":\"SYSTEM\",\"69\":\"atti-001\",\"70\":\"atti-001\",\"71\":\"atti-001\",\"72\":\"SYSTEM\",\"73\":\"SYSTEM\",\"74\":\"SYSTEM\",\"75\":\"atti-001\",\"76\":\"atti-001\",\"77\":\"atti-001\",\"78\":\"atti-001\",\"79\":\"atti-001\",\"80\":\"atti-001\",\"81\":\"atti-001\",\"82\":\"atti-001\",\"83\":\"atti-001\",\"84\":\"atti-001\",\"85\":\"atti-001\",\"86\":\"atti-001\",\"87\":\"atti-001\",\"88\":\"atti-001\"},\"key\":{\"0\":\"Microsoft\\\\u00ae Windows\\\\u00ae Operating System\",\"1\":\"Git\",\"2\":\"Microsoft Teams\",\"3\":\"Google Chrome\",\"4\":\"Windows\\\\u00ae Search\",\"5\":\"Microsoft\\\\u00ae .NET Framework\",\"6\":\"-\",\"7\":\"Python\",\"8\":\"Google Update\",\"9\":\"Microsoft Edge Update\",\"10\":\"OpenJDK Platform 11\",\"11\":\"Adobe Reader and Acrobat Manager\",\"12\":\"Adobe AcroCEF\",\"13\":\"Internet Explorer\",\"14\":\"Microsoft Office 2016\",\"15\":\"IntelliJ Platform\",\"16\":\"Intel\\\\u00ae Graphics Control Panel\",\"17\":\"Adobe Acrobat Reader DC\",\"18\":\"Symantec Endpoint Protection\",\"19\":\"Postman\",\"20\":\"Git Credential Manager for Windows command line interface.\",\"21\":\"Microsoft Office\",\"22\":\"Microsoft OneDrive\",\"23\":\"Symantec Shared Component\",\"24\":\"Microsoft Edge\",\"25\":\"AnyDesk\",\"26\":\" LogTransport Application\",\"27\":\"Skype\",\"28\":\"Office Subscription Licensing Heartbeat\",\"29\":\"Notepad++\",\"30\":\"Microsoft Edge Installer\",\"31\":\"Google Chrome Installer\",\"32\":\"TeamViewer\",\"33\":\"mintty\",\"34\":\"Windows Drive Optimizer\",\"35\":\"HD Audio Background Process\",\"36\":\"Windows Installer - Unicode\",\"37\":\"Xbox Game Bar\",\"38\":\"Software Reporter Tool\",\"39\":\"PuTTY suite\",\"40\":\"Microsoft Your Phone\",\"41\":\"WinRAR\",\"42\":\"ProtonVPN\",\"43\":\"Adobe Collaboration Synchronizer\",\"44\":\"PyCharm\",\"45\":\"Symantec Data Center Security Server\",\"46\":\"Intel(R) Common User Interface\",\"47\":\"Symantec Security Technologies\",\"48\":\"\\\\u00b5Torrent\",\"49\":\"Adobe Acrobat\",\"50\":\"Adobe Acrobat Update Service\",\"51\":\"Cortana\",\"52\":\"Cortana System Service\",\"53\":\"Realtek HD USB Audio Manager\",\"54\":\"Symantec Client Management Component\",\"55\":\"Waves MaxxAudio\",\"56\":\"Windows (R) Win 7 DDK driver\",\"57\":\"Microsoft \\\\u00ae Windows Script Host\",\"58\":\"Sysinternals Sysmon\",\"59\":\"Windows Store\",\"60\":\"Adobe WebInstaller\",\"61\":\"HP Install\",\"62\":\"Intel HD Graphics Drivers for Windows(R)\",\"63\":\"Intel(R) Dynamic Application Loader Host Interface\",\"64\":\"Intel(R) TPM Provisioning Service\",\"65\":\"IntelCpHeciSvc Executable\",\"66\":\"Malicious Software Removal Tool\",\"67\":\"Microsoft (R) Windows (R) Operating System\",\"68\":\"Microsoft Windows Malicious Software Removal Tool\",\"69\":\"MySQL Workbench\",\"70\":\"PassFab for ZIP                                             \",\"71\":\"Passper for ZIP\",\"72\":\"Realtek Audio Service\",\"73\":\"Symantec Data Center Security Cloud Service Agent\",\"74\":\"TeamViewer Installer\",\"75\":\"VLC media player\",\"76\":\"WinGup for Notepad++\",\"77\":\"Advanced Installer\",\"78\":\"IESettingSync\",\"79\":\"Maps\",\"80\":\"Microsoft\\\\u00ae Visual Studio\\\\u00ae 2015\",\"81\":\"NSIS\",\"82\":\"Passper For ZIP\",\"83\":\"Passper for ZIP                                             \",\"84\":\"ProtonVPNTap\",\"85\":\"Tk 8.6 for Windows\",\"86\":\"WinSCP\",\"87\":\"iMyFone Daemons\",\"88\":\"johnny\"},\"label\":{\"0\":40.0,\"1\":12.0,\"2\":36.0,\"3\":14.0,\"4\":74.0,\"5\":39.0,\"6\":1.0,\"7\":50.0,\"8\":16.0,\"9\":32.0,\"10\":44.0,\"11\":7.0,\"12\":2.0,\"13\":26.0,\"14\":34.0,\"15\":24.0,\"16\":25.0,\"17\":4.0,\"18\":58.0,\"19\":45.0,\"20\":13.0,\"21\":33.0,\"22\":35.0,\"23\":60.0,\"24\":30.0,\"25\":9.0,\"26\":0.0,\"27\":53.0,\"28\":43.0,\"29\":42.0,\"30\":31.0,\"31\":15.0,\"32\":62.0,\"33\":76.0,\"34\":71.0,\"35\":17.0,\"36\":72.0,\"37\":75.0,\"38\":54.0,\"39\":48.0,\"40\":38.0,\"41\":68.0,\"42\":46.0,\"43\":6.0,\"44\":49.0,\"45\":57.0,\"46\":20.0,\"47\":59.0,\"48\":77.0,\"49\":3.0,\"50\":5.0,\"51\":10.0,\"52\":11.0,\"53\":52.0,\"54\":55.0,\"55\":66.0,\"56\":70.0,\"57\":177.0,\"58\":61.0,\"59\":73.0,\"60\":177.0,\"61\":177.0,\"62\":19.0,\"63\":21.0,\"64\":22.0,\"65\":23.0,\"66\":27.0,\"67\":29.0,\"68\":37.0,\"69\":41.0,\"70\":177.0,\"71\":177.0,\"72\":51.0,\"73\":56.0,\"74\":63.0,\"75\":65.0,\"76\":67.0,\"77\":8.0,\"78\":18.0,\"79\":28.0,\"80\":177.0,\"81\":177.0,\"82\":177.0,\"83\":177.0,\"84\":47.0,\"85\":64.0,\"86\":69.0,\"87\":177.0,\"88\":177.0},\"new_app\":{\"0\":0,\"1\":0,\"2\":0,\"3\":0,\"4\":0,\"5\":0,\"6\":0,\"7\":0,\"8\":0,\"9\":0,\"10\":0,\"11\":0,\"12\":0,\"13\":0,\"14\":0,\"15\":0,\"16\":0,\"17\":0,\"18\":0,\"19\":0,\"20\":0,\"21\":0,\"22\":0,\"23\":0,\"24\":0,\"25\":0,\"26\":0,\"27\":0,\"28\":0,\"29\":0,\"30\":0,\"31\":0,\"32\":0,\"33\":0,\"34\":0,\"35\":0,\"36\":0,\"37\":0,\"38\":0,\"39\":0,\"40\":0,\"41\":0,\"42\":0,\"43\":0,\"44\":0,\"45\":0,\"46\":0,\"47\":0,\"48\":0,\"49\":0,\"50\":0,\"51\":0,\"52\":0,\"53\":0,\"54\":0,\"55\":0,\"56\":0,\"57\":1,\"58\":0,\"59\":0,\"60\":1,\"61\":1,\"62\":0,\"63\":0,\"64\":0,\"65\":0,\"66\":0,\"67\":0,\"68\":0,\"69\":0,\"70\":0,\"71\":1,\"72\":0,\"73\":0,\"74\":0,\"75\":0,\"76\":0,\"77\":0,\"78\":0,\"79\":0,\"80\":1,\"81\":1,\"82\":1,\"83\":0,\"84\":0,\"85\":0,\"86\":0,\"87\":1,\"88\":1}}'"
      ]
     },
     "execution_count": 4,
     "metadata": {},
     "output_type": "execute_result"
    }
   ],
   "source": [
    "data['data']"
   ]
  },
  {
   "cell_type": "code",
   "execution_count": 5,
   "metadata": {},
   "outputs": [],
   "source": [
    "df=pd.read_json(data['data'])"
   ]
  },
  {
   "cell_type": "code",
   "execution_count": 8,
   "metadata": {},
   "outputs": [],
   "source": [
    "df.to_csv('Usman_ApCheck.csv',index=False)"
   ]
  },
  {
   "cell_type": "code",
   "execution_count": 6,
   "metadata": {},
   "outputs": [
    {
     "data": {
      "text/html": [
       "<div>\n",
       "<style scoped>\n",
       "    .dataframe tbody tr th:only-of-type {\n",
       "        vertical-align: middle;\n",
       "    }\n",
       "\n",
       "    .dataframe tbody tr th {\n",
       "        vertical-align: top;\n",
       "    }\n",
       "\n",
       "    .dataframe thead th {\n",
       "        text-align: right;\n",
       "    }\n",
       "</style>\n",
       "<table border=\"1\" class=\"dataframe\">\n",
       "  <thead>\n",
       "    <tr style=\"text-align: right;\">\n",
       "      <th></th>\n",
       "      <th>computer_name</th>\n",
       "      <th>doc_count</th>\n",
       "      <th>username</th>\n",
       "      <th>key</th>\n",
       "      <th>label</th>\n",
       "      <th>new_app</th>\n",
       "    </tr>\n",
       "  </thead>\n",
       "  <tbody>\n",
       "    <tr>\n",
       "      <th>57</th>\n",
       "      <td>USMANQURESHI</td>\n",
       "      <td>3</td>\n",
       "      <td>atti-001</td>\n",
       "      <td>Microsoft ® Windows Script Host</td>\n",
       "      <td>177</td>\n",
       "      <td>1</td>\n",
       "    </tr>\n",
       "    <tr>\n",
       "      <th>60</th>\n",
       "      <td>NT AUTHORITY</td>\n",
       "      <td>2</td>\n",
       "      <td>SYSTEM</td>\n",
       "      <td>Adobe WebInstaller</td>\n",
       "      <td>177</td>\n",
       "      <td>1</td>\n",
       "    </tr>\n",
       "    <tr>\n",
       "      <th>61</th>\n",
       "      <td>USMANQURESHI</td>\n",
       "      <td>2</td>\n",
       "      <td>atti-001</td>\n",
       "      <td>HP Install</td>\n",
       "      <td>177</td>\n",
       "      <td>1</td>\n",
       "    </tr>\n",
       "    <tr>\n",
       "      <th>71</th>\n",
       "      <td>USMANQURESHI</td>\n",
       "      <td>2</td>\n",
       "      <td>atti-001</td>\n",
       "      <td>Passper for ZIP</td>\n",
       "      <td>177</td>\n",
       "      <td>1</td>\n",
       "    </tr>\n",
       "    <tr>\n",
       "      <th>80</th>\n",
       "      <td>USMANQURESHI</td>\n",
       "      <td>1</td>\n",
       "      <td>atti-001</td>\n",
       "      <td>Microsoft® Visual Studio® 2015</td>\n",
       "      <td>177</td>\n",
       "      <td>1</td>\n",
       "    </tr>\n",
       "    <tr>\n",
       "      <th>81</th>\n",
       "      <td>USMANQURESHI</td>\n",
       "      <td>1</td>\n",
       "      <td>atti-001</td>\n",
       "      <td>NSIS</td>\n",
       "      <td>177</td>\n",
       "      <td>1</td>\n",
       "    </tr>\n",
       "    <tr>\n",
       "      <th>82</th>\n",
       "      <td>USMANQURESHI</td>\n",
       "      <td>1</td>\n",
       "      <td>atti-001</td>\n",
       "      <td>Passper For ZIP</td>\n",
       "      <td>177</td>\n",
       "      <td>1</td>\n",
       "    </tr>\n",
       "    <tr>\n",
       "      <th>87</th>\n",
       "      <td>USMANQURESHI</td>\n",
       "      <td>1</td>\n",
       "      <td>atti-001</td>\n",
       "      <td>iMyFone Daemons</td>\n",
       "      <td>177</td>\n",
       "      <td>1</td>\n",
       "    </tr>\n",
       "    <tr>\n",
       "      <th>88</th>\n",
       "      <td>USMANQURESHI</td>\n",
       "      <td>1</td>\n",
       "      <td>atti-001</td>\n",
       "      <td>johnny</td>\n",
       "      <td>177</td>\n",
       "      <td>1</td>\n",
       "    </tr>\n",
       "  </tbody>\n",
       "</table>\n",
       "</div>"
      ],
      "text/plain": [
       "   computer_name  doc_count  username                              key  label  \\\n",
       "57  USMANQURESHI          3  atti-001  Microsoft ® Windows Script Host    177   \n",
       "60  NT AUTHORITY          2    SYSTEM               Adobe WebInstaller    177   \n",
       "61  USMANQURESHI          2  atti-001                       HP Install    177   \n",
       "71  USMANQURESHI          2  atti-001                  Passper for ZIP    177   \n",
       "80  USMANQURESHI          1  atti-001   Microsoft® Visual Studio® 2015    177   \n",
       "81  USMANQURESHI          1  atti-001                             NSIS    177   \n",
       "82  USMANQURESHI          1  atti-001                  Passper For ZIP    177   \n",
       "87  USMANQURESHI          1  atti-001                  iMyFone Daemons    177   \n",
       "88  USMANQURESHI          1  atti-001                           johnny    177   \n",
       "\n",
       "    new_app  \n",
       "57        1  \n",
       "60        1  \n",
       "61        1  \n",
       "71        1  \n",
       "80        1  \n",
       "81        1  \n",
       "82        1  \n",
       "87        1  \n",
       "88        1  "
      ]
     },
     "execution_count": 6,
     "metadata": {},
     "output_type": "execute_result"
    }
   ],
   "source": [
    "df[df['new_app']==1]"
   ]
  },
  {
   "cell_type": "code",
   "execution_count": null,
   "metadata": {},
   "outputs": [],
   "source": []
  },
  {
   "cell_type": "code",
   "execution_count": null,
   "metadata": {},
   "outputs": [],
   "source": []
  }
 ],
 "metadata": {
  "kernelspec": {
   "display_name": "Python 3",
   "language": "python",
   "name": "python3"
  },
  "language_info": {
   "codemirror_mode": {
    "name": "ipython",
    "version": 3
   },
   "file_extension": ".py",
   "mimetype": "text/x-python",
   "name": "python",
   "nbconvert_exporter": "python",
   "pygments_lexer": "ipython3",
   "version": "3.8.5"
  }
 },
 "nbformat": 4,
 "nbformat_minor": 4
}
