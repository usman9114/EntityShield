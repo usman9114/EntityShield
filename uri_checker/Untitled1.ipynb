{
 "cells": [
  {
   "cell_type": "code",
   "execution_count": null,
   "metadata": {},
   "outputs": [
    {
     "name": "stdout",
     "output_type": "stream",
     "text": [
      "enternoob\n",
      "Oi you sent something to me\n",
      "enterhh\n",
      "Oi you sent something to me\n",
      "enterjj\n",
      "Oi you sent something to me\n"
     ]
    }
   ],
   "source": [
    "import socket\n",
    "\n",
    "s = socket.socket(socket.AF_INET, socket.SOCK_STREAM)\n",
    "host =\"localhost\"\n",
    "port =8000\n",
    "s.connect((host,port))\n",
    "\n",
    "def ts(str):\n",
    "   s.send('e'.encode()) \n",
    "   data = ''\n",
    "   data = s.recv(1024).decode()\n",
    "   print (data)\n",
    "\n",
    "while 1:\n",
    "   r = input('enter')\n",
    "   ts(s)\n",
    "\n",
    "s.close ()"
   ]
  },
  {
   "cell_type": "code",
   "execution_count": null,
   "metadata": {},
   "outputs": [],
   "source": []
  }
 ],
 "metadata": {
  "kernelspec": {
   "display_name": "Python 3",
   "language": "python",
   "name": "python3"
  },
  "language_info": {
   "codemirror_mode": {
    "name": "ipython",
    "version": 3
   },
   "file_extension": ".py",
   "mimetype": "text/x-python",
   "name": "python",
   "nbconvert_exporter": "python",
   "pygments_lexer": "ipython3",
   "version": "3.8.5"
  }
 },
 "nbformat": 4,
 "nbformat_minor": 4
}
