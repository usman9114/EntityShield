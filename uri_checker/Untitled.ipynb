{
 "cells": [
  {
   "cell_type": "code",
   "execution_count": null,
   "metadata": {},
   "outputs": [
    {
     "name": "stdout",
     "output_type": "stream",
     "text": [
      "localhost\n",
      "8000\n",
      "server started and listening\n",
      "Client sent: e\n"
     ]
    },
    {
     "name": "stderr",
     "output_type": "stream",
     "text": [
      "Exception in thread Thread-6:\n",
      "Traceback (most recent call last):\n",
      "  File \"C:\\Users\\Usman Qureshi\\anaconda3\\lib\\threading.py\", line 932, in _bootstrap_inner\n",
      "    self.run()\n",
      "  File \"<ipython-input-1-f5ccc607889a>\", line 20, in run\n",
      "ConnectionAbortedError: [WinError 10053] An established connection was aborted by the software in your host machine\n"
     ]
    },
    {
     "name": "stdout",
     "output_type": "stream",
     "text": [
      "Client sent: \n",
      "Client sent: e\n",
      "Client sent: e\n",
      "Client sent: e\n"
     ]
    }
   ],
   "source": [
    "import socket\n",
    "from threading import *\n",
    "\n",
    "serversocket = socket.socket(socket.AF_INET, socket.SOCK_STREAM)\n",
    "host = \"localhost\"\n",
    "port = 8000\n",
    "print (host)\n",
    "print (port)\n",
    "serversocket.bind((host, port))\n",
    "\n",
    "class client(Thread):\n",
    "    def __init__(self, socket, address):\n",
    "        Thread.__init__(self)\n",
    "        self.sock = socket\n",
    "        self.addr = address\n",
    "        self.start()\n",
    "\n",
    "    def run(self):\n",
    "        while 1:\n",
    "            print('Client sent:', self.sock.recv(1024).decode())\n",
    "            self.sock.send(b'Oi you sent something to me')\n",
    "\n",
    "serversocket.listen(5)\n",
    "print ('server started and listening')\n",
    "while 1:\n",
    "    clientsocket, address = serversocket.accept()\n",
    "    client(clientsocket, address)"
   ]
  },
  {
   "cell_type": "code",
   "execution_count": null,
   "metadata": {},
   "outputs": [],
   "source": []
  }
 ],
 "metadata": {
  "kernelspec": {
   "display_name": "Python 3",
   "language": "python",
   "name": "python3"
  },
  "language_info": {
   "codemirror_mode": {
    "name": "ipython",
    "version": 3
   },
   "file_extension": ".py",
   "mimetype": "text/x-python",
   "name": "python",
   "nbconvert_exporter": "python",
   "pygments_lexer": "ipython3",
   "version": "3.8.5"
  }
 },
 "nbformat": 4,
 "nbformat_minor": 4
}
